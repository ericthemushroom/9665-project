{
 "cells": [
  {
   "cell_type": "markdown",
   "metadata": {},
   "source": [
    "### Libraries"
   ]
  },
  {
   "cell_type": "code",
   "execution_count": 1,
   "metadata": {},
   "outputs": [],
   "source": [
    "import re\n",
    "import pandas as pd\n",
    "import numpy as np\n",
    "import csv\n",
    "import nltk\n",
    "from nltk.corpus import stopwords"
   ]
  },
  {
   "cell_type": "markdown",
   "metadata": {},
   "source": [
    "### Loading in Data"
   ]
  },
  {
   "cell_type": "code",
   "execution_count": 2,
   "metadata": {},
   "outputs": [],
   "source": [
    "# import os\n",
    "# for dirname, _, filenames in os.walk('C:/Users/eric the cool/Desktop/9665/project'):\n",
    "#     print(filenames)"
   ]
  },
  {
   "cell_type": "code",
   "execution_count": 3,
   "metadata": {},
   "outputs": [],
   "source": [
    "dataset = 2"
   ]
  },
  {
   "cell_type": "code",
   "execution_count": 35,
   "metadata": {},
   "outputs": [],
   "source": [
    "if dataset == 1:\n",
    "    train = pd.read_csv('C:/Users/eric the cool/Desktop/9665/project/SMS_train.csv', encoding = 'latin-1')\n",
    "    test = pd.read_csv('C:/Users/eric the cool/Desktop/9665/project/SMS_test.csv', encoding = 'latin-1')\n",
    "    train['Label'] =  train['Label'].map({\"Non-Spam\":0,\"Spam\":1})\n",
    "    test['Label'] =  test['Label'].map({\"Non-Spam\":0,\"Spam\":1})\n",
    "\n",
    "if dataset == 2:\n",
    "    data = pd.read_csv('C:/Users/eric the cool/Desktop/9665/project/spam_ham_dataset.csv', encoding = 'latin-1')\n",
    "    data = data.rename(columns={'label_num': 'Label', 'text': 'Message_body'})\n",
    "    \n",
    "    from sklearn.model_selection import train_test_split\n",
    "    train, test = train_test_split(data, test_size=0.2, random_state=0)\n",
    "    train = train[['Message_body', 'Label']]\n",
    "    test = test[['Message_body', 'Label']]\n",
    "    train = train.reset_index(drop=True)\n",
    "    test = test.reset_index(drop=True)"
   ]
  },
  {
   "cell_type": "markdown",
   "metadata": {},
   "source": [
    "### Preprocessing"
   ]
  },
  {
   "cell_type": "code",
   "execution_count": 30,
   "metadata": {},
   "outputs": [],
   "source": [
    "def preprocessing (text):\n",
    "    \n",
    "    ps = nltk.stem.PorterStemmer()\n",
    "    # Normalization and cleaning\n",
    "    text = text.lower()\n",
    "    text = re.sub(\"(http|https|www)(:|\\.)\\S+.com\",\" \",text)\n",
    "    text = re.sub('[^a-zA-Z0-9\\n]', ' ', text)\n",
    "    text = re.sub(\"[^\\w\\d]\",\" \",text)\n",
    "    text = re.sub(\"\\d+\",\" \",text)\n",
    "    text = re.sub('\\s+',' ', text)\n",
    "    text = \" \".join([ps.stem(t) for t in text.split() if t not in nltk.corpus.stopwords.words(\"english\")])\n",
    "    \n",
    "    # Tokenization and Stemming\n",
    "#     token_text = []\n",
    "#     ps = nltk.stem.PorterStemmer()\n",
    "#     for word in nltk.word_tokenize(text):\n",
    "#         token_text.append(ps.stem(word))\n",
    "        \n",
    "    return text"
   ]
  },
  {
   "cell_type": "code",
   "execution_count": 31,
   "metadata": {},
   "outputs": [
    {
     "data": {
      "text/plain": [
       "'subject daren firm trade waha book set intern counterparti desk desk trade enrononlin follow user id password give access live price web site http www enrononlin com user id adm password welcom note case sensit pleas keep user id password secur allow transact enrononlin contact helpdesk x question problem gain access id thank stephani x'"
      ]
     },
     "execution_count": 31,
     "metadata": {},
     "output_type": "execute_result"
    }
   ],
   "source": [
    "preprocessing(train['Message_body'][3])"
   ]
  },
  {
   "cell_type": "code",
   "execution_count": 40,
   "metadata": {},
   "outputs": [],
   "source": [
    "processed_text = []\n",
    "for i in range(train.shape[0]):\n",
    "    processed_text.append(preprocessing(train.loc[i].at[\"Message_body\"]))\n",
    "    \n",
    "train['processed_text'] = processed_text"
   ]
  },
  {
   "cell_type": "code",
   "execution_count": null,
   "metadata": {},
   "outputs": [],
   "source": [
    "processed_text"
   ]
  },
  {
   "cell_type": "code",
   "execution_count": 36,
   "metadata": {},
   "outputs": [],
   "source": [
    "processed_text2 = []\n",
    "for i in range(test.shape[0]):\n",
    "    processed_text2.append(preprocessing(test['Message_body'][i]))\n",
    "    \n",
    "test['processed_text'] = processed_text2"
   ]
  },
  {
   "cell_type": "code",
   "execution_count": 41,
   "metadata": {},
   "outputs": [
    {
     "data": {
      "text/html": [
       "<div>\n",
       "<style scoped>\n",
       "    .dataframe tbody tr th:only-of-type {\n",
       "        vertical-align: middle;\n",
       "    }\n",
       "\n",
       "    .dataframe tbody tr th {\n",
       "        vertical-align: top;\n",
       "    }\n",
       "\n",
       "    .dataframe thead th {\n",
       "        text-align: right;\n",
       "    }\n",
       "</style>\n",
       "<table border=\"1\" class=\"dataframe\">\n",
       "  <thead>\n",
       "    <tr style=\"text-align: right;\">\n",
       "      <th></th>\n",
       "      <th>Message_body</th>\n",
       "      <th>Label</th>\n",
       "      <th>processed_text</th>\n",
       "    </tr>\n",
       "  </thead>\n",
       "  <tbody>\n",
       "    <tr>\n",
       "      <th>0</th>\n",
       "      <td>Subject: meter 986296\\r\\nscherlyn , per our co...</td>\n",
       "      <td>0</td>\n",
       "      <td>subject meter scherlyn per convers meter month...</td>\n",
       "    </tr>\n",
       "    <tr>\n",
       "      <th>1</th>\n",
       "      <td>Subject: natural gas nomination for 08 / 00\\r\\...</td>\n",
       "      <td>0</td>\n",
       "      <td>subject natur ga nomin enron methanol nomin fo...</td>\n",
       "    </tr>\n",
       "    <tr>\n",
       "      <th>2</th>\n",
       "      <td>Subject: cleburne outage\\r\\ngentlemen ,\\r\\ni w...</td>\n",
       "      <td>0</td>\n",
       "      <td>subject cleburn outag gentlemen want clarifi l...</td>\n",
       "    </tr>\n",
       "    <tr>\n",
       "      <th>3</th>\n",
       "      <td>Subject: daren ,\\r\\nthe firm trading waha book...</td>\n",
       "      <td>0</td>\n",
       "      <td>subject daren firm trade waha book set intern ...</td>\n",
       "    </tr>\n",
       "    <tr>\n",
       "      <th>4</th>\n",
       "      <td>Subject: re : mon , 2 feb 2004 03 : 16 : 16 - ...</td>\n",
       "      <td>1</td>\n",
       "      <td>subject mon feb page load imag show view messa...</td>\n",
       "    </tr>\n",
       "  </tbody>\n",
       "</table>\n",
       "</div>"
      ],
      "text/plain": [
       "                                        Message_body  Label  \\\n",
       "0  Subject: meter 986296\\r\\nscherlyn , per our co...      0   \n",
       "1  Subject: natural gas nomination for 08 / 00\\r\\...      0   \n",
       "2  Subject: cleburne outage\\r\\ngentlemen ,\\r\\ni w...      0   \n",
       "3  Subject: daren ,\\r\\nthe firm trading waha book...      0   \n",
       "4  Subject: re : mon , 2 feb 2004 03 : 16 : 16 - ...      1   \n",
       "\n",
       "                                      processed_text  \n",
       "0  subject meter scherlyn per convers meter month...  \n",
       "1  subject natur ga nomin enron methanol nomin fo...  \n",
       "2  subject cleburn outag gentlemen want clarifi l...  \n",
       "3  subject daren firm trade waha book set intern ...  \n",
       "4  subject mon feb page load imag show view messa...  "
      ]
     },
     "execution_count": 41,
     "metadata": {},
     "output_type": "execute_result"
    }
   ],
   "source": [
    "train.head()"
   ]
  },
  {
   "cell_type": "code",
   "execution_count": 38,
   "metadata": {},
   "outputs": [
    {
     "data": {
      "text/html": [
       "<div>\n",
       "<style scoped>\n",
       "    .dataframe tbody tr th:only-of-type {\n",
       "        vertical-align: middle;\n",
       "    }\n",
       "\n",
       "    .dataframe tbody tr th {\n",
       "        vertical-align: top;\n",
       "    }\n",
       "\n",
       "    .dataframe thead th {\n",
       "        text-align: right;\n",
       "    }\n",
       "</style>\n",
       "<table border=\"1\" class=\"dataframe\">\n",
       "  <thead>\n",
       "    <tr style=\"text-align: right;\">\n",
       "      <th></th>\n",
       "      <th>Message_body</th>\n",
       "      <th>Label</th>\n",
       "      <th>processed_text</th>\n",
       "    </tr>\n",
       "  </thead>\n",
       "  <tbody>\n",
       "    <tr>\n",
       "      <th>0</th>\n",
       "      <td>Subject: ship channel hub co\\r\\nplease review ...</td>\n",
       "      <td>0</td>\n",
       "      <td>subject ship channel hub co pleas review comme...</td>\n",
       "    </tr>\n",
       "    <tr>\n",
       "      <th>1</th>\n",
       "      <td>Subject: feb 2000 intercompany accrual varianc...</td>\n",
       "      <td>0</td>\n",
       "      <td>subject feb intercompani accrual varianc list ...</td>\n",
       "    </tr>\n",
       "    <tr>\n",
       "      <th>2</th>\n",
       "      <td>Subject: meter 981318\\r\\ndaren ,\\r\\nthe above ...</td>\n",
       "      <td>0</td>\n",
       "      <td>subject meter daren meter record flow jan year...</td>\n",
       "    </tr>\n",
       "    <tr>\n",
       "      <th>3</th>\n",
       "      <td>Subject: via - ggra is lousy mizar\\r\\nanti\\r\\n...</td>\n",
       "      <td>1</td>\n",
       "      <td>subject via ggra lousi mizar anti curb hemisph...</td>\n",
       "    </tr>\n",
       "    <tr>\n",
       "      <th>4</th>\n",
       "      <td>Subject: potential list - feb . 2001\\r\\ndaren ...</td>\n",
       "      <td>0</td>\n",
       "      <td>subject potenti list feb daren awar potenti co...</td>\n",
       "    </tr>\n",
       "  </tbody>\n",
       "</table>\n",
       "</div>"
      ],
      "text/plain": [
       "                                        Message_body  Label  \\\n",
       "0  Subject: ship channel hub co\\r\\nplease review ...      0   \n",
       "1  Subject: feb 2000 intercompany accrual varianc...      0   \n",
       "2  Subject: meter 981318\\r\\ndaren ,\\r\\nthe above ...      0   \n",
       "3  Subject: via - ggra is lousy mizar\\r\\nanti\\r\\n...      1   \n",
       "4  Subject: potential list - feb . 2001\\r\\ndaren ...      0   \n",
       "\n",
       "                                      processed_text  \n",
       "0  subject ship channel hub co pleas review comme...  \n",
       "1  subject feb intercompani accrual varianc list ...  \n",
       "2  subject meter daren meter record flow jan year...  \n",
       "3  subject via ggra lousi mizar anti curb hemisph...  \n",
       "4  subject potenti list feb daren awar potenti co...  "
      ]
     },
     "execution_count": 38,
     "metadata": {},
     "output_type": "execute_result"
    }
   ],
   "source": [
    "test.head()"
   ]
  },
  {
   "cell_type": "code",
   "execution_count": 42,
   "metadata": {},
   "outputs": [
    {
     "name": "stdout",
     "output_type": "stream",
     "text": [
      "(4136,)\n",
      "(4136,)\n"
     ]
    }
   ],
   "source": [
    "X_train = train['processed_text']\n",
    "Y_train = train['Label']\n",
    "\n",
    "X_test = test['processed_text']\n",
    "Y_test = test['Label']\n",
    "\n",
    "\n",
    "print(X_train.shape)\n",
    "print(Y_train.shape)"
   ]
  },
  {
   "cell_type": "code",
   "execution_count": 43,
   "metadata": {},
   "outputs": [],
   "source": [
    "from sklearn.feature_extraction.text import TfidfVectorizer\n",
    "\n",
    "text_vec = TfidfVectorizer(min_df=10, max_features=1000)"
   ]
  },
  {
   "cell_type": "code",
   "execution_count": 44,
   "metadata": {},
   "outputs": [],
   "source": [
    "text_vec.fit(X_train.values)\n",
    "\n",
    "train_text = text_vec.transform(X_train.values)\n",
    "test_text = text_vec.transform(X_test.values)"
   ]
  },
  {
   "cell_type": "code",
   "execution_count": 45,
   "metadata": {},
   "outputs": [
    {
     "name": "stdout",
     "output_type": "stream",
     "text": [
      "(4136, 1000)\n",
      "(1035, 1000)\n"
     ]
    }
   ],
   "source": [
    "print(train_text.shape)\n",
    "print(test_text.shape)"
   ]
  },
  {
   "cell_type": "code",
   "execution_count": 46,
   "metadata": {
    "scrolled": true
   },
   "outputs": [
    {
     "name": "stderr",
     "output_type": "stream",
     "text": [
      "[Parallel(n_jobs=-1)]: Using backend LokyBackend with 4 concurrent workers.\n",
      "[Parallel(n_jobs=-1)]: Done   2 out of   5 | elapsed:    5.7s remaining:    8.6s\n",
      "[Parallel(n_jobs=-1)]: Done   5 out of   5 | elapsed:    7.2s finished\n"
     ]
    }
   ],
   "source": [
    "import pickle\n",
    "from sklearn.linear_model import LogisticRegressionCV\n",
    "clf = LogisticRegressionCV(cv=5,\n",
    "                           scoring ='accuracy',\n",
    "                           random_state = 0,\n",
    "                           n_jobs = -1,\n",
    "                           verbose =3,\n",
    "                           max_iter= 300).fit(train_text,Y_train)\n",
    "# saved_model = open('save_model.sav','wb')\n",
    "# pickle.dump(clf,saved_model)\n",
    "# saved_model.close()"
   ]
  },
  {
   "cell_type": "code",
   "execution_count": null,
   "metadata": {},
   "outputs": [],
   "source": [
    "# filename ='save_model.sav'\n",
    "# saved_clf = pickle.load(open(filename,'rb'))"
   ]
  },
  {
   "cell_type": "code",
   "execution_count": 47,
   "metadata": {},
   "outputs": [
    {
     "name": "stdout",
     "output_type": "stream",
     "text": [
      "Accuracy for the Logistic Regression is : 0.988394584139265\n"
     ]
    }
   ],
   "source": [
    "print(\"Accuracy for the Logistic Regression is :\",clf.score(train_text,Y_train))"
   ]
  },
  {
   "cell_type": "code",
   "execution_count": 48,
   "metadata": {},
   "outputs": [
    {
     "name": "stdout",
     "output_type": "stream",
     "text": [
      "Accuracy for the Logistic Regression is : 0.9710144927536232\n"
     ]
    }
   ],
   "source": [
    "print(\"Accuracy for the Logistic Regression is :\",clf.score(test_text,Y_test))"
   ]
  },
  {
   "cell_type": "code",
   "execution_count": null,
   "metadata": {},
   "outputs": [],
   "source": []
  },
  {
   "cell_type": "code",
   "execution_count": null,
   "metadata": {},
   "outputs": [],
   "source": []
  }
 ],
 "metadata": {
  "kernelspec": {
   "display_name": "Python 3",
   "language": "python",
   "name": "python3"
  },
  "language_info": {
   "codemirror_mode": {
    "name": "ipython",
    "version": 3
   },
   "file_extension": ".py",
   "mimetype": "text/x-python",
   "name": "python",
   "nbconvert_exporter": "python",
   "pygments_lexer": "ipython3",
   "version": "3.8.5"
  }
 },
 "nbformat": 4,
 "nbformat_minor": 4
}
