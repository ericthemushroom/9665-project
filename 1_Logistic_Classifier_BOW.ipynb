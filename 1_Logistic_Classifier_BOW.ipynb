{
 "cells": [
  {
   "cell_type": "code",
   "execution_count": 1,
   "metadata": {},
   "outputs": [],
   "source": [
    "import re\n",
    "import pandas as pd\n",
    "import numpy as np\n",
    "import csv\n",
    "import nltk\n",
    "import random\n",
    "from nltk.corpus import stopwords\n",
    "from nltk.stem import WordNetLemmatizer\n",
    "lemmatizer = WordNetLemmatizer()"
   ]
  },
  {
   "cell_type": "markdown",
   "metadata": {},
   "source": [
    "### Loading data"
   ]
  },
  {
   "cell_type": "code",
   "execution_count": 2,
   "metadata": {},
   "outputs": [],
   "source": [
    "data = pd.read_csv('C:/Users/eric the cool/Desktop/9665/project/spam_ham_dataset.csv', encoding = 'latin-1')\n",
    "data = data[['text', 'label_num']]\n",
    "data = data.rename(columns={'label_num': 'label'})"
   ]
  },
  {
   "cell_type": "markdown",
   "metadata": {},
   "source": [
    "### Train test splitting"
   ]
  },
  {
   "cell_type": "code",
   "execution_count": 5,
   "metadata": {},
   "outputs": [],
   "source": [
    "percent = 0.8"
   ]
  },
  {
   "cell_type": "code",
   "execution_count": 6,
   "metadata": {},
   "outputs": [],
   "source": [
    "random.seed(10)\n",
    "from sklearn.model_selection import train_test_split\n",
    "train, test = train_test_split(data, test_size=0.2, random_state=0)\n",
    "train = train.reset_index(drop=True)\n",
    "test = test.reset_index(drop=True)"
   ]
  },
  {
   "cell_type": "markdown",
   "metadata": {},
   "source": [
    "### Preprocessing email text for training and test set"
   ]
  },
  {
   "cell_type": "code",
   "execution_count": 7,
   "metadata": {},
   "outputs": [],
   "source": [
    "def preprocessing (text):\n",
    "    \n",
    "    # Normalization and cleaning\n",
    "    text = text.lower()\n",
    "    text = re.sub(\"(http|https|www)(:|\\.)\\S+.com\",\" \",text)\n",
    "    text = re.sub(\"[^\\w\\d]\",\" \",text)\n",
    "    text = re.sub(\"\\d+\",\" \",text)\n",
    "    \n",
    "    # Tokenization and Stemming\n",
    "    token_text = []\n",
    "    for word in nltk.word_tokenize(text):\n",
    "        if word not in nltk.corpus.stopwords.words(\"english\"):\n",
    "            token_text.append(lemmatizer.lemmatize(word))\n",
    "        \n",
    "    return token_text"
   ]
  },
  {
   "cell_type": "markdown",
   "metadata": {},
   "source": [
    "#### Adding tokenized_text column to the trainning matrix"
   ]
  },
  {
   "cell_type": "code",
   "execution_count": 12,
   "metadata": {},
   "outputs": [],
   "source": [
    "processed_text_train = []\n",
    "for i in range(train.shape[0]):\n",
    "    processed_text_train.append(preprocessing(train[\"text\"][i]))  \n",
    "train['processed_text'] = processed_text_train"
   ]
  },
  {
   "cell_type": "code",
   "execution_count": 13,
   "metadata": {},
   "outputs": [],
   "source": [
    "processed_text_test = []\n",
    "for i in range(test.shape[0]):\n",
    "    processed_text_test.append(preprocessing(test['text'][i]))\n",
    "test['processed_text'] = processed_text_test"
   ]
  },
  {
   "cell_type": "code",
   "execution_count": 14,
   "metadata": {
    "scrolled": true
   },
   "outputs": [
    {
     "data": {
      "text/html": [
       "<div>\n",
       "<style scoped>\n",
       "    .dataframe tbody tr th:only-of-type {\n",
       "        vertical-align: middle;\n",
       "    }\n",
       "\n",
       "    .dataframe tbody tr th {\n",
       "        vertical-align: top;\n",
       "    }\n",
       "\n",
       "    .dataframe thead th {\n",
       "        text-align: right;\n",
       "    }\n",
       "</style>\n",
       "<table border=\"1\" class=\"dataframe\">\n",
       "  <thead>\n",
       "    <tr style=\"text-align: right;\">\n",
       "      <th></th>\n",
       "      <th>text</th>\n",
       "      <th>label</th>\n",
       "      <th>processed_text</th>\n",
       "    </tr>\n",
       "  </thead>\n",
       "  <tbody>\n",
       "    <tr>\n",
       "      <th>0</th>\n",
       "      <td>Subject: ship channel hub co\\r\\nplease review ...</td>\n",
       "      <td>0</td>\n",
       "      <td>[subject, ship, channel, hub, co, please, revi...</td>\n",
       "    </tr>\n",
       "    <tr>\n",
       "      <th>1</th>\n",
       "      <td>Subject: feb 2000 intercompany accrual varianc...</td>\n",
       "      <td>0</td>\n",
       "      <td>[subject, feb, intercompany, accrual, variance...</td>\n",
       "    </tr>\n",
       "    <tr>\n",
       "      <th>2</th>\n",
       "      <td>Subject: meter 981318\\r\\ndaren ,\\r\\nthe above ...</td>\n",
       "      <td>0</td>\n",
       "      <td>[subject, meter, daren, meter, recorded, flow,...</td>\n",
       "    </tr>\n",
       "    <tr>\n",
       "      <th>3</th>\n",
       "      <td>Subject: via - ggra is lousy mizar\\r\\nanti\\r\\n...</td>\n",
       "      <td>1</td>\n",
       "      <td>[subject, via, ggra, lousy, mizar, anti, curb,...</td>\n",
       "    </tr>\n",
       "    <tr>\n",
       "      <th>4</th>\n",
       "      <td>Subject: potential list - feb . 2001\\r\\ndaren ...</td>\n",
       "      <td>0</td>\n",
       "      <td>[subject, potential, list, feb, daren, aware, ...</td>\n",
       "    </tr>\n",
       "    <tr>\n",
       "      <th>5</th>\n",
       "      <td>Subject: retroactive adjustments\\r\\nthe follow...</td>\n",
       "      <td>0</td>\n",
       "      <td>[subject, retroactive, adjustment, following, ...</td>\n",
       "    </tr>\n",
       "    <tr>\n",
       "      <th>6</th>\n",
       "      <td>Subject: re : texas general land office it tra...</td>\n",
       "      <td>0</td>\n",
       "      <td>[subject, texas, general, land, office, transp...</td>\n",
       "    </tr>\n",
       "    <tr>\n",
       "      <th>7</th>\n",
       "      <td>Subject: fw : epgt\\r\\ndaren - can you please l...</td>\n",
       "      <td>0</td>\n",
       "      <td>[subject, fw, epgt, daren, please, let, know, ...</td>\n",
       "    </tr>\n",
       "    <tr>\n",
       "      <th>8</th>\n",
       "      <td>Subject: new pictures\\r\\nfor faster viewing , ...</td>\n",
       "      <td>0</td>\n",
       "      <td>[subject, new, picture, faster, viewing, would...</td>\n",
       "    </tr>\n",
       "    <tr>\n",
       "      <th>9</th>\n",
       "      <td>Subject: underpriced issue with high return on...</td>\n",
       "      <td>1</td>\n",
       "      <td>[subject, underpriced, issue, high, return, eq...</td>\n",
       "    </tr>\n",
       "  </tbody>\n",
       "</table>\n",
       "</div>"
      ],
      "text/plain": [
       "                                                text  label  \\\n",
       "0  Subject: ship channel hub co\\r\\nplease review ...      0   \n",
       "1  Subject: feb 2000 intercompany accrual varianc...      0   \n",
       "2  Subject: meter 981318\\r\\ndaren ,\\r\\nthe above ...      0   \n",
       "3  Subject: via - ggra is lousy mizar\\r\\nanti\\r\\n...      1   \n",
       "4  Subject: potential list - feb . 2001\\r\\ndaren ...      0   \n",
       "5  Subject: retroactive adjustments\\r\\nthe follow...      0   \n",
       "6  Subject: re : texas general land office it tra...      0   \n",
       "7  Subject: fw : epgt\\r\\ndaren - can you please l...      0   \n",
       "8  Subject: new pictures\\r\\nfor faster viewing , ...      0   \n",
       "9  Subject: underpriced issue with high return on...      1   \n",
       "\n",
       "                                      processed_text  \n",
       "0  [subject, ship, channel, hub, co, please, revi...  \n",
       "1  [subject, feb, intercompany, accrual, variance...  \n",
       "2  [subject, meter, daren, meter, recorded, flow,...  \n",
       "3  [subject, via, ggra, lousy, mizar, anti, curb,...  \n",
       "4  [subject, potential, list, feb, daren, aware, ...  \n",
       "5  [subject, retroactive, adjustment, following, ...  \n",
       "6  [subject, texas, general, land, office, transp...  \n",
       "7  [subject, fw, epgt, daren, please, let, know, ...  \n",
       "8  [subject, new, picture, faster, viewing, would...  \n",
       "9  [subject, underpriced, issue, high, return, eq...  "
      ]
     },
     "execution_count": 14,
     "metadata": {},
     "output_type": "execute_result"
    }
   ],
   "source": [
    "test.head(10)"
   ]
  },
  {
   "cell_type": "markdown",
   "metadata": {},
   "source": [
    "### feature selection"
   ]
  },
  {
   "cell_type": "code",
   "execution_count": 21,
   "metadata": {},
   "outputs": [],
   "source": [
    "emailCorpus = []\n",
    "for text in train['processed_text']:\n",
    "    emailCorpus += text"
   ]
  },
  {
   "cell_type": "code",
   "execution_count": 22,
   "metadata": {},
   "outputs": [],
   "source": [
    "spamCorpus = []\n",
    "for i in range(len(train['processed_text'])):\n",
    "    if train['label'][i] ==1:\n",
    "        spamCorpus += train['processed_text'][i]"
   ]
  },
  {
   "cell_type": "code",
   "execution_count": 42,
   "metadata": {},
   "outputs": [
    {
     "data": {
      "text/plain": [
       "146316"
      ]
     },
     "execution_count": 42,
     "metadata": {},
     "output_type": "execute_result"
    }
   ],
   "source": [
    "len(spamCorpus)"
   ]
  },
  {
   "cell_type": "code",
   "execution_count": 23,
   "metadata": {},
   "outputs": [],
   "source": [
    "nonspamCorpus = []\n",
    "for i in range(len(train['processed_text'])):\n",
    "    if train['label'][i] ==0:\n",
    "        nonspamCorpus += train['processed_text'][i]"
   ]
  },
  {
   "cell_type": "code",
   "execution_count": 43,
   "metadata": {},
   "outputs": [
    {
     "data": {
      "text/plain": [
       "257149"
      ]
     },
     "execution_count": 43,
     "metadata": {},
     "output_type": "execute_result"
    }
   ],
   "source": [
    "len(nonspamCorpus)"
   ]
  },
  {
   "cell_type": "code",
   "execution_count": 24,
   "metadata": {},
   "outputs": [],
   "source": [
    "fd_email=nltk.FreqDist(emailCorpus)\n",
    "fd_spam=nltk.FreqDist(spamCorpus)\n",
    "fd_nonspam=nltk.FreqDist(nonspamCorpus)"
   ]
  },
  {
   "cell_type": "code",
   "execution_count": 25,
   "metadata": {},
   "outputs": [],
   "source": [
    "wl_email = [w for (w,_) in fd_email.most_common()]\n",
    "wl_spam = [w for (w,_) in fd_spam.most_common()]\n",
    "wl_nonspam = [w for (w,_) in fd_nonspam.most_common()]"
   ]
  },
  {
   "cell_type": "code",
   "execution_count": 26,
   "metadata": {},
   "outputs": [],
   "source": [
    "set_spam = set(wl_spam[:int(len(wl_spam)*percent)])\n",
    "set_nonspam = set(wl_nonspam[:int(len(wl_spam)*percent)])\n",
    "\n",
    "common_token = set(wl_email[:int(len(wl_email)*0.2)])\n",
    "\n",
    "set_spam = set_spam.difference(common_token)\n",
    "set_nonspam = set_nonspam.difference(common_token)"
   ]
  },
  {
   "cell_type": "code",
   "execution_count": 27,
   "metadata": {},
   "outputs": [],
   "source": [
    "featureSet = list(set_spam.union(set_nonspam))"
   ]
  },
  {
   "cell_type": "code",
   "execution_count": 28,
   "metadata": {},
   "outputs": [],
   "source": [
    "featureList = list(featureSet)"
   ]
  },
  {
   "cell_type": "code",
   "execution_count": 29,
   "metadata": {},
   "outputs": [
    {
     "name": "stdout",
     "output_type": "stream",
     "text": [
      "30730\n",
      "12433\n",
      "23897\n",
      "7379\n"
     ]
    },
    {
     "data": {
      "text/plain": [
       "1035"
      ]
     },
     "execution_count": 29,
     "metadata": {},
     "output_type": "execute_result"
    }
   ],
   "source": [
    "print(len(wl_spam))\n",
    "print(len(wl_nonspam))\n",
    "print(len(featureList))\n",
    "print(len(common_token))\n",
    "len(train['processed_text'])\n",
    "len(test['processed_text'])"
   ]
  },
  {
   "cell_type": "code",
   "execution_count": 30,
   "metadata": {},
   "outputs": [],
   "source": [
    "X_train = np.zeros((len(train['processed_text']),len(featureList)))\n",
    "X_test = np.zeros((len(test['processed_text']),len(featureList)))\n",
    "# X_train = [[0 for _ in range(len(featureList))] for _ in range(len(train['tokenized_text']))]\n",
    "# X_test = [[0 for _ in range(len(featureList))] for _ in range(len(test['tokenized_text']))]"
   ]
  },
  {
   "cell_type": "code",
   "execution_count": 31,
   "metadata": {},
   "outputs": [],
   "source": [
    "for obs in range(len(train['processed_text'])):\n",
    "    for word in train['processed_text'][obs]:\n",
    "        if word in featureList:\n",
    "            X_train[obs][featureList.index(word)] = 1\n",
    "            \n",
    "for obs in range(len(test['processed_text'])):\n",
    "    for word in test['processed_text'][obs]:\n",
    "        if word in featureList:\n",
    "            X_test[obs][featureList.index(word)] = 1"
   ]
  },
  {
   "cell_type": "code",
   "execution_count": 32,
   "metadata": {},
   "outputs": [
    {
     "name": "stderr",
     "output_type": "stream",
     "text": [
      "[Parallel(n_jobs=-1)]: Using backend LokyBackend with 4 concurrent workers.\n",
      "[Parallel(n_jobs=-1)]: Done   2 out of   5 | elapsed:   15.5s remaining:   23.3s\n",
      "[Parallel(n_jobs=-1)]: Done   5 out of   5 | elapsed:   39.7s finished\n"
     ]
    },
    {
     "name": "stdout",
     "output_type": "stream",
     "text": [
      "[LibLinear]"
     ]
    }
   ],
   "source": [
    "import pickle\n",
    "from sklearn.linear_model import LogisticRegressionCV\n",
    "clf = LogisticRegressionCV(cv=5,\n",
    "                           solver = 'liblinear',\n",
    "                           scoring ='accuracy',\n",
    "                           penalty = 'l1',\n",
    "                           random_state = 0,\n",
    "                           n_jobs = -1,\n",
    "                           verbose =3,\n",
    "                           max_iter= 300).fit(X_train,train['label'])\n",
    "saved_model = open('save_model.sav','wb')\n",
    "pickle.dump(clf,saved_model)\n",
    "saved_model.close()"
   ]
  },
  {
   "cell_type": "code",
   "execution_count": 34,
   "metadata": {},
   "outputs": [],
   "source": [
    "filename ='save_model.sav'\n",
    "saved_clf = pickle.load(open(filename,'rb'))"
   ]
  },
  {
   "cell_type": "code",
   "execution_count": 36,
   "metadata": {},
   "outputs": [
    {
     "name": "stdout",
     "output_type": "stream",
     "text": [
      "Accuracy for the Logistic Regression is : 0.9634912959381045\n"
     ]
    }
   ],
   "source": [
    "print(\"Accuracy for the Logistic Regression is :\",saved_clf.score(X_train,train['label']))"
   ]
  },
  {
   "cell_type": "code",
   "execution_count": 37,
   "metadata": {},
   "outputs": [
    {
     "name": "stdout",
     "output_type": "stream",
     "text": [
      "Accuracy for the Logistic Regression is : 0.8492753623188406\n"
     ]
    }
   ],
   "source": [
    "print(\"Accuracy for the Logistic Regression is :\",saved_clf.score(X_test,test['label']))"
   ]
  },
  {
   "cell_type": "markdown",
   "metadata": {},
   "source": [
    "### Confusion Matrix and scores"
   ]
  },
  {
   "cell_type": "code",
   "execution_count": 39,
   "metadata": {},
   "outputs": [
    {
     "data": {
      "text/plain": [
       "array([[715,  17],\n",
       "       [139, 164]], dtype=int64)"
      ]
     },
     "execution_count": 39,
     "metadata": {},
     "output_type": "execute_result"
    }
   ],
   "source": [
    "from sklearn.metrics import confusion_matrix\n",
    "\n",
    "confusion_matrix(test['label'], clf.predict(X_test), labels=None, sample_weight=None, normalize=None)"
   ]
  },
  {
   "cell_type": "code",
   "execution_count": 41,
   "metadata": {},
   "outputs": [
    {
     "data": {
      "text/plain": [
       "(0.9060773480662984, 0.5412541254125413, 0.6776859504132231, None)"
      ]
     },
     "execution_count": 41,
     "metadata": {},
     "output_type": "execute_result"
    }
   ],
   "source": [
    "from sklearn.metrics import precision_recall_fscore_support\n",
    "precision_recall_fscore_support(test['label'], clf.predict(X_test),\n",
    "                                average = 'binary')"
   ]
  },
  {
   "cell_type": "markdown",
   "metadata": {},
   "source": [
    "### Precision = 0.9061\n",
    "### Recall = 0.5413\n",
    "### F-score = 0.6777"
   ]
  }
 ],
 "metadata": {
  "kernelspec": {
   "display_name": "Python 3",
   "language": "python",
   "name": "python3"
  },
  "language_info": {
   "codemirror_mode": {
    "name": "ipython",
    "version": 3
   },
   "file_extension": ".py",
   "mimetype": "text/x-python",
   "name": "python",
   "nbconvert_exporter": "python",
   "pygments_lexer": "ipython3",
   "version": "3.8.5"
  }
 },
 "nbformat": 4,
 "nbformat_minor": 4
}
